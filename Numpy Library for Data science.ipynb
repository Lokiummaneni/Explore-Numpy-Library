{
 "cells": [
  {
   "cell_type": "code",
   "execution_count": 1,
   "id": "37271bf5",
   "metadata": {},
   "outputs": [
    {
     "name": "stdout",
     "output_type": "stream",
     "text": [
      "Requirement already satisfied: numpy in c:\\users\\loki\\anaconda3\\lib\\site-packages (1.21.5)\n"
     ]
    }
   ],
   "source": [
    "!pip install numpy"
   ]
  },
  {
   "cell_type": "code",
   "execution_count": 2,
   "id": "f11dad3c",
   "metadata": {},
   "outputs": [],
   "source": [
    "import numpy as np"
   ]
  },
  {
   "cell_type": "markdown",
   "id": "770075e0",
   "metadata": {},
   "source": [
    "#### creating a one-dimentional array "
   ]
  },
  {
   "cell_type": "code",
   "execution_count": 3,
   "id": "c0c08882",
   "metadata": {},
   "outputs": [
    {
     "name": "stdout",
     "output_type": "stream",
     "text": [
      "[1 4 6 8 9]\n"
     ]
    }
   ],
   "source": [
    "a=np.array([1,4,6,8,9],dtype=np.int32)\n",
    "print(a)"
   ]
  },
  {
   "cell_type": "code",
   "execution_count": 4,
   "id": "4df36143",
   "metadata": {},
   "outputs": [
    {
     "name": "stdout",
     "output_type": "stream",
     "text": [
      "[4 9]\n"
     ]
    }
   ],
   "source": [
    "b=np.array([4,9],int)\n",
    "print(b)"
   ]
  },
  {
   "cell_type": "code",
   "execution_count": 5,
   "id": "eff166f8",
   "metadata": {},
   "outputs": [
    {
     "data": {
      "text/plain": [
       "numpy.ndarray"
      ]
     },
     "execution_count": 5,
     "metadata": {},
     "output_type": "execute_result"
    }
   ],
   "source": [
    "type(a)"
   ]
  },
  {
   "cell_type": "code",
   "execution_count": 6,
   "id": "67f67abb",
   "metadata": {},
   "outputs": [
    {
     "data": {
      "text/plain": [
       "numpy.ndarray"
      ]
     },
     "execution_count": 6,
     "metadata": {},
     "output_type": "execute_result"
    }
   ],
   "source": [
    "type(b)"
   ]
  },
  {
   "cell_type": "markdown",
   "id": "4c69fd0f",
   "metadata": {},
   "source": [
    "#### creating two dimentional array"
   ]
  },
  {
   "cell_type": "code",
   "execution_count": 7,
   "id": "78c864d7",
   "metadata": {},
   "outputs": [
    {
     "name": "stdout",
     "output_type": "stream",
     "text": [
      "[[1 2 3 4]\n",
      " [5 6 7 8]]\n"
     ]
    }
   ],
   "source": [
    "c=np.array([[1,2,3,4],[5,6,7,8]],int)\n",
    "print(c)"
   ]
  },
  {
   "cell_type": "code",
   "execution_count": 8,
   "id": "eccc5775",
   "metadata": {},
   "outputs": [
    {
     "data": {
      "text/plain": [
       "numpy.ndarray"
      ]
     },
     "execution_count": 8,
     "metadata": {},
     "output_type": "execute_result"
    }
   ],
   "source": [
    "type(c)"
   ]
  },
  {
   "cell_type": "markdown",
   "id": "8c2e1e93",
   "metadata": {},
   "source": [
    "#### Creating ZERO'S array"
   ]
  },
  {
   "cell_type": "code",
   "execution_count": 9,
   "id": "b8b985f6",
   "metadata": {},
   "outputs": [
    {
     "name": "stdout",
     "output_type": "stream",
     "text": [
      "[0. 0. 0. 0.]\n"
     ]
    }
   ],
   "source": [
    "z=np.zeros(4)\n",
    "print(z)"
   ]
  },
  {
   "cell_type": "code",
   "execution_count": 10,
   "id": "8c4b4438",
   "metadata": {},
   "outputs": [
    {
     "name": "stdout",
     "output_type": "stream",
     "text": [
      "[[0. 0. 0.]\n",
      " [0. 0. 0.]\n",
      " [0. 0. 0.]]\n"
     ]
    }
   ],
   "source": [
    "#Two dimensional array\n",
    "u=np.zeros((3,3))\n",
    "print(u)"
   ]
  },
  {
   "cell_type": "markdown",
   "id": "6e2d9e55",
   "metadata": {},
   "source": [
    "#### Creating ONE'S array"
   ]
  },
  {
   "cell_type": "code",
   "execution_count": 11,
   "id": "7e2f5735",
   "metadata": {},
   "outputs": [
    {
     "name": "stdout",
     "output_type": "stream",
     "text": [
      "[1. 1. 1.]\n"
     ]
    }
   ],
   "source": [
    "o=np.ones(3)\n",
    "print(o)"
   ]
  },
  {
   "cell_type": "code",
   "execution_count": 12,
   "id": "52fd658d",
   "metadata": {},
   "outputs": [
    {
     "name": "stdout",
     "output_type": "stream",
     "text": [
      "[[1. 1. 1. 1. 1.]\n",
      " [1. 1. 1. 1. 1.]\n",
      " [1. 1. 1. 1. 1.]\n",
      " [1. 1. 1. 1. 1.]\n",
      " [1. 1. 1. 1. 1.]]\n"
     ]
    }
   ],
   "source": [
    "ot=np.ones((5,5))\n",
    "print(ot)"
   ]
  },
  {
   "cell_type": "markdown",
   "id": "0f92f0d9",
   "metadata": {},
   "source": [
    "#### Creating array with random numbers"
   ]
  },
  {
   "cell_type": "code",
   "execution_count": 13,
   "id": "5ecec645",
   "metadata": {},
   "outputs": [
    {
     "name": "stdout",
     "output_type": "stream",
     "text": [
      "[[0.5591875  0.06596208 0.35527953]\n",
      " [0.4622604  0.78335514 0.47274746]]\n"
     ]
    }
   ],
   "source": [
    "r=np.random.rand(2,3)\n",
    "print(r)"
   ]
  },
  {
   "cell_type": "code",
   "execution_count": 14,
   "id": "a00e16cb",
   "metadata": {},
   "outputs": [
    {
     "name": "stdout",
     "output_type": "stream",
     "text": [
      "[[0.89769673 0.09320387 0.66112917]\n",
      " [0.19113974 0.66640611 0.06228511]\n",
      " [0.13342915 0.25032844 0.90978816]\n",
      " [0.71266805 0.56997109 0.08278208]\n",
      " [0.8167309  0.89835745 0.27611762]\n",
      " [0.57161072 0.19298197 0.75166178]]\n"
     ]
    }
   ],
   "source": [
    "rn=np.random.rand(6,3)\n",
    "print(rn)"
   ]
  },
  {
   "cell_type": "markdown",
   "id": "5f8ddcec",
   "metadata": {},
   "source": [
    "#### Create An array of particular dimension and particular value\n"
   ]
  },
  {
   "cell_type": "code",
   "execution_count": 15,
   "id": "fe0d0ef5",
   "metadata": {},
   "outputs": [
    {
     "name": "stdout",
     "output_type": "stream",
     "text": [
      "[[5.5 5.5 5.5 5.5]\n",
      " [5.5 5.5 5.5 5.5]\n",
      " [5.5 5.5 5.5 5.5]\n",
      " [5.5 5.5 5.5 5.5]]\n"
     ]
    }
   ],
   "source": [
    "y=np.full((4,4),5.5)\n",
    "print(y)"
   ]
  },
  {
   "cell_type": "markdown",
   "id": "af9f752a",
   "metadata": {},
   "source": [
    "#### UNIT MATRIX"
   ]
  },
  {
   "cell_type": "code",
   "execution_count": 16,
   "id": "5fe61333",
   "metadata": {},
   "outputs": [
    {
     "name": "stdout",
     "output_type": "stream",
     "text": [
      "[[1. 0. 0. 0.]\n",
      " [0. 1. 0. 0.]\n",
      " [0. 0. 1. 0.]\n",
      " [0. 0. 0. 1.]]\n"
     ]
    }
   ],
   "source": [
    "u=np.eye(4)\n",
    "print(u)"
   ]
  },
  {
   "cell_type": "code",
   "execution_count": 17,
   "id": "7e7c23b9",
   "metadata": {},
   "outputs": [
    {
     "name": "stdout",
     "output_type": "stream",
     "text": [
      "[[1. 0. 0.]\n",
      " [0. 1. 0.]\n",
      " [0. 0. 1.]]\n"
     ]
    }
   ],
   "source": [
    "u=np.eye(3,k=0)\n",
    "print(u)"
   ]
  },
  {
   "cell_type": "code",
   "execution_count": 18,
   "id": "f08e2a07",
   "metadata": {},
   "outputs": [
    {
     "name": "stdout",
     "output_type": "stream",
     "text": [
      "[[0. 1. 0. 0.]\n",
      " [0. 0. 1. 0.]\n",
      " [0. 0. 0. 1.]\n",
      " [0. 0. 0. 0.]]\n"
     ]
    }
   ],
   "source": [
    "#Changing diagnal values from one position above\n",
    "u=np.eye(4,k=1)\n",
    "print(u)"
   ]
  },
  {
   "cell_type": "code",
   "execution_count": 19,
   "id": "67a34edc",
   "metadata": {},
   "outputs": [
    {
     "name": "stdout",
     "output_type": "stream",
     "text": [
      "[[0. 0. 0. 0.]\n",
      " [0. 0. 0. 0.]\n",
      " [1. 0. 0. 0.]\n",
      " [0. 1. 0. 0.]]\n"
     ]
    }
   ],
   "source": [
    "#Changing diagnal values from two positions below\n",
    "u=np.eye(4,k=-2)\n",
    "print(u)"
   ]
  },
  {
   "cell_type": "markdown",
   "id": "0b59e3b0",
   "metadata": {},
   "source": [
    "#### Evenly spaced ndarray\n"
   ]
  },
  {
   "cell_type": "code",
   "execution_count": 20,
   "id": "951db80c",
   "metadata": {},
   "outputs": [
    {
     "name": "stdout",
     "output_type": "stream",
     "text": [
      "[0 1 2 3 4 5 6 7 8 9]\n"
     ]
    }
   ],
   "source": [
    "e=np.arange(10)\n",
    "print(e)"
   ]
  },
  {
   "cell_type": "code",
   "execution_count": 21,
   "id": "bb0e7ed9",
   "metadata": {},
   "outputs": [
    {
     "name": "stdout",
     "output_type": "stream",
     "text": [
      "[ 1  5  9 13 17]\n"
     ]
    }
   ],
   "source": [
    "e=np.arange(1,20,4)\n",
    "print(e)"
   ]
  },
  {
   "cell_type": "code",
   "execution_count": 22,
   "id": "31146eb5",
   "metadata": {},
   "outputs": [
    {
     "name": "stdout",
     "output_type": "stream",
     "text": [
      "[ 1.          3.11111111  5.22222222  7.33333333  9.44444444 11.55555556\n",
      " 13.66666667 15.77777778 17.88888889 20.        ]\n"
     ]
    }
   ],
   "source": [
    "e=np.linspace(1,20,10)\n",
    "print(e)"
   ]
  },
  {
   "cell_type": "markdown",
   "id": "a01d3e6f",
   "metadata": {},
   "source": [
    "#### SHAPE AND RE-SHAPE"
   ]
  },
  {
   "cell_type": "code",
   "execution_count": 23,
   "id": "bad77eea",
   "metadata": {},
   "outputs": [
    {
     "data": {
      "text/plain": [
       "1"
      ]
     },
     "execution_count": 23,
     "metadata": {},
     "output_type": "execute_result"
    }
   ],
   "source": [
    "a.ndim"
   ]
  },
  {
   "cell_type": "code",
   "execution_count": 24,
   "id": "24186697",
   "metadata": {},
   "outputs": [
    {
     "data": {
      "text/plain": [
       "2"
      ]
     },
     "execution_count": 24,
     "metadata": {},
     "output_type": "execute_result"
    }
   ],
   "source": [
    "c.ndim"
   ]
  },
  {
   "cell_type": "code",
   "execution_count": 25,
   "id": "a3f4e26f",
   "metadata": {},
   "outputs": [
    {
     "data": {
      "text/plain": [
       "1"
      ]
     },
     "execution_count": 25,
     "metadata": {},
     "output_type": "execute_result"
    }
   ],
   "source": [
    "e.ndim"
   ]
  },
  {
   "cell_type": "code",
   "execution_count": 26,
   "id": "c2fdd935",
   "metadata": {},
   "outputs": [
    {
     "data": {
      "text/plain": [
       "(5,)"
      ]
     },
     "execution_count": 26,
     "metadata": {},
     "output_type": "execute_result"
    }
   ],
   "source": [
    "#Shape of NumPy array\n",
    "a.shape"
   ]
  },
  {
   "cell_type": "code",
   "execution_count": 27,
   "id": "1b3bdb7e",
   "metadata": {},
   "outputs": [
    {
     "data": {
      "text/plain": [
       "(10,)"
      ]
     },
     "execution_count": 27,
     "metadata": {},
     "output_type": "execute_result"
    }
   ],
   "source": [
    "e.shape"
   ]
  },
  {
   "cell_type": "code",
   "execution_count": 28,
   "id": "b60bf515",
   "metadata": {},
   "outputs": [
    {
     "data": {
      "text/plain": [
       "(2, 4)"
      ]
     },
     "execution_count": 28,
     "metadata": {},
     "output_type": "execute_result"
    }
   ],
   "source": [
    "c.shape"
   ]
  },
  {
   "cell_type": "markdown",
   "id": "84885632",
   "metadata": {},
   "source": [
    "#### SIze of numpy array"
   ]
  },
  {
   "cell_type": "code",
   "execution_count": 29,
   "id": "24041918",
   "metadata": {},
   "outputs": [
    {
     "name": "stdout",
     "output_type": "stream",
     "text": [
      "[[1 2 3]\n",
      " [4 5 6]\n",
      " [7 8 9]]\n"
     ]
    }
   ],
   "source": [
    "#size=rows*columns\n",
    "s=np.array([[1,2,3],[4,5,6],[7,8,9]])\n",
    "print(s)"
   ]
  },
  {
   "cell_type": "code",
   "execution_count": 30,
   "id": "aba102ff",
   "metadata": {},
   "outputs": [
    {
     "data": {
      "text/plain": [
       "9"
      ]
     },
     "execution_count": 30,
     "metadata": {},
     "output_type": "execute_result"
    }
   ],
   "source": [
    "s.size"
   ]
  },
  {
   "cell_type": "markdown",
   "id": "5bec6931",
   "metadata": {},
   "source": [
    "#### Reshaping a array"
   ]
  },
  {
   "cell_type": "code",
   "execution_count": 31,
   "id": "5925af7a",
   "metadata": {},
   "outputs": [
    {
     "data": {
      "text/plain": [
       "array([[4, 5],\n",
       "       [6, 7],\n",
       "       [8, 9]])"
      ]
     },
     "execution_count": 31,
     "metadata": {},
     "output_type": "execute_result"
    }
   ],
   "source": [
    "rs=np.array([4,5,6,7,8,9])\n",
    "np.reshape(rs,(3,2))"
   ]
  },
  {
   "cell_type": "code",
   "execution_count": 32,
   "id": "e4676a3f",
   "metadata": {},
   "outputs": [
    {
     "data": {
      "text/plain": [
       "array([[4, 5, 6],\n",
       "       [7, 8, 9]])"
      ]
     },
     "execution_count": 32,
     "metadata": {},
     "output_type": "execute_result"
    }
   ],
   "source": [
    "rs=np.array([4,5,6,7,8,9])\n",
    "np.reshape(rs,(2,3))"
   ]
  },
  {
   "cell_type": "markdown",
   "id": "bcbd7353",
   "metadata": {},
   "source": [
    "#### Flattening a NumPy array\n"
   ]
  },
  {
   "cell_type": "code",
   "execution_count": 33,
   "id": "6b948f1b",
   "metadata": {},
   "outputs": [
    {
     "data": {
      "text/plain": [
       "'\\n1.What is happening here is that flatten() creates a Deep copy of the ndarray while ravel() creates a Shallow copy of the ndarray.\\n2.Deep copy means that a completely new ndarray is created in memory and the ndarray object returned by flatten() is now pointing to this memory location. \\n  Therefore, any changes made here will not be reflected in the original ndarray.\\n3.A Shallow copy, on the other hand, returns a reference to the original memory location. \\n  Meaning the object returned by ravel() is pointing to the same memory location as the original ndarray object\\n'"
      ]
     },
     "execution_count": 33,
     "metadata": {},
     "output_type": "execute_result"
    }
   ],
   "source": [
    "#Convert into multidimensional to one dimensional using flatten and ravel\n",
    "\n",
    "\"\"\"\n",
    "1.What is happening here is that flatten() creates a Deep copy of the ndarray while ravel() creates a Shallow copy of the ndarray.\n",
    "2.Deep copy means that a completely new ndarray is created in memory and the ndarray object returned by flatten() is now pointing to this memory location. \n",
    "  Therefore, any changes made here will not be reflected in the original ndarray.\n",
    "3.A Shallow copy, on the other hand, returns a reference to the original memory location. \n",
    "  Meaning the object returned by ravel() is pointing to the same memory location as the original ndarray object\n",
    "\"\"\" "
   ]
  },
  {
   "cell_type": "code",
   "execution_count": 34,
   "id": "f5f88742",
   "metadata": {},
   "outputs": [
    {
     "data": {
      "text/plain": [
       "array([1, 2, 3, 4, 5, 6, 7, 8, 9])"
      ]
     },
     "execution_count": 34,
     "metadata": {},
     "output_type": "execute_result"
    }
   ],
   "source": [
    "a=np.array([[1,2,3],[4,5,6],[7,8,9]])\n",
    "b=a.flatten()\n",
    "b"
   ]
  },
  {
   "cell_type": "code",
   "execution_count": 35,
   "id": "0c097721",
   "metadata": {},
   "outputs": [
    {
     "data": {
      "text/plain": [
       "array([1, 2, 3, 4, 5, 6, 7, 8, 9])"
      ]
     },
     "execution_count": 35,
     "metadata": {},
     "output_type": "execute_result"
    }
   ],
   "source": [
    "c=a.ravel()\n",
    "c"
   ]
  },
  {
   "cell_type": "code",
   "execution_count": 36,
   "id": "8fcdb3db",
   "metadata": {},
   "outputs": [
    {
     "name": "stdout",
     "output_type": "stream",
     "text": [
      "[0 2 3 4 5 6 7 8 9]\n",
      "[[1 2 3]\n",
      " [4 5 6]\n",
      " [7 8 9]]\n"
     ]
    }
   ],
   "source": [
    "b[0]=0\n",
    "print(b)\n",
    "print(a)"
   ]
  },
  {
   "cell_type": "code",
   "execution_count": 37,
   "id": "85952463",
   "metadata": {},
   "outputs": [
    {
     "name": "stdout",
     "output_type": "stream",
     "text": [
      "[0 2 3 4 5 6 7 8 9]\n",
      "[[0 2 3]\n",
      " [4 5 6]\n",
      " [7 8 9]]\n"
     ]
    }
   ],
   "source": [
    "c[0]=0\n",
    "print(c)\n",
    "print(a)"
   ]
  },
  {
   "cell_type": "markdown",
   "id": "1d751b19",
   "metadata": {},
   "source": [
    "#### Transpose of a NumPy array"
   ]
  },
  {
   "cell_type": "code",
   "execution_count": 38,
   "id": "d4ecc0d2",
   "metadata": {},
   "outputs": [
    {
     "data": {
      "text/plain": [
       "array([[0, 2, 3],\n",
       "       [4, 5, 6],\n",
       "       [7, 8, 9]])"
      ]
     },
     "execution_count": 38,
     "metadata": {},
     "output_type": "execute_result"
    }
   ],
   "source": [
    "a"
   ]
  },
  {
   "cell_type": "code",
   "execution_count": 39,
   "id": "c56fa2eb",
   "metadata": {},
   "outputs": [
    {
     "data": {
      "text/plain": [
       "array([[0, 4, 7],\n",
       "       [2, 5, 8],\n",
       "       [3, 6, 9]])"
      ]
     },
     "execution_count": 39,
     "metadata": {},
     "output_type": "execute_result"
    }
   ],
   "source": [
    "t=a.transpose()\n",
    "t"
   ]
  },
  {
   "cell_type": "markdown",
   "id": "5a1c0b1d",
   "metadata": {},
   "source": [
    "#### Expanding a NumPy array\n"
   ]
  },
  {
   "cell_type": "code",
   "execution_count": 40,
   "id": "4141bebe",
   "metadata": {},
   "outputs": [
    {
     "data": {
      "text/plain": [
       "array([[0, 2, 3],\n",
       "       [4, 5, 6],\n",
       "       [7, 8, 9]])"
      ]
     },
     "execution_count": 40,
     "metadata": {},
     "output_type": "execute_result"
    }
   ],
   "source": [
    "a"
   ]
  },
  {
   "cell_type": "code",
   "execution_count": 41,
   "id": "18cd2c14",
   "metadata": {},
   "outputs": [
    {
     "data": {
      "text/plain": [
       "(3, 3)"
      ]
     },
     "execution_count": 41,
     "metadata": {},
     "output_type": "execute_result"
    }
   ],
   "source": [
    "a.shape"
   ]
  },
  {
   "cell_type": "code",
   "execution_count": 42,
   "id": "35f3641e",
   "metadata": {},
   "outputs": [
    {
     "name": "stdout",
     "output_type": "stream",
     "text": [
      "[[[0 2 3]]\n",
      "\n",
      " [[4 5 6]]\n",
      "\n",
      " [[7 8 9]]]\n"
     ]
    }
   ],
   "source": [
    "e=np.expand_dims(a,axis=1)\n",
    "print(e)"
   ]
  },
  {
   "cell_type": "code",
   "execution_count": 43,
   "id": "10e2e88e",
   "metadata": {},
   "outputs": [
    {
     "data": {
      "text/plain": [
       "(3, 1, 3)"
      ]
     },
     "execution_count": 43,
     "metadata": {},
     "output_type": "execute_result"
    }
   ],
   "source": [
    "e.shape"
   ]
  },
  {
   "cell_type": "code",
   "execution_count": 44,
   "id": "2854ea83",
   "metadata": {},
   "outputs": [
    {
     "name": "stdout",
     "output_type": "stream",
     "text": [
      "[[[0 2 3]\n",
      "  [4 5 6]\n",
      "  [7 8 9]]]\n"
     ]
    }
   ],
   "source": [
    "f=np.expand_dims(a,axis=0)\n",
    "print(f)"
   ]
  },
  {
   "cell_type": "code",
   "execution_count": 45,
   "id": "57f7583f",
   "metadata": {},
   "outputs": [
    {
     "data": {
      "text/plain": [
       "(1, 3, 3)"
      ]
     },
     "execution_count": 45,
     "metadata": {},
     "output_type": "execute_result"
    }
   ],
   "source": [
    "f.shape"
   ]
  },
  {
   "cell_type": "code",
   "execution_count": 46,
   "id": "1964a9bd",
   "metadata": {},
   "outputs": [
    {
     "data": {
      "text/plain": [
       "array([[[0, 2, 3]],\n",
       "\n",
       "       [[4, 5, 6]],\n",
       "\n",
       "       [[7, 8, 9]]])"
      ]
     },
     "execution_count": 46,
     "metadata": {},
     "output_type": "execute_result"
    }
   ],
   "source": [
    "e"
   ]
  },
  {
   "cell_type": "markdown",
   "id": "d6592948",
   "metadata": {},
   "source": [
    "#### Squeezing a NumPy array"
   ]
  },
  {
   "cell_type": "code",
   "execution_count": 47,
   "id": "2aed81e7",
   "metadata": {},
   "outputs": [
    {
     "name": "stdout",
     "output_type": "stream",
     "text": [
      "[[0 2 3]\n",
      " [4 5 6]\n",
      " [7 8 9]]\n"
     ]
    }
   ],
   "source": [
    "s=e.squeeze(1)\n",
    "print(s)"
   ]
  },
  {
   "cell_type": "code",
   "execution_count": 48,
   "id": "3add0162",
   "metadata": {},
   "outputs": [
    {
     "data": {
      "text/plain": [
       "(3, 3)"
      ]
     },
     "execution_count": 48,
     "metadata": {},
     "output_type": "execute_result"
    }
   ],
   "source": [
    "s.shape"
   ]
  },
  {
   "cell_type": "code",
   "execution_count": 49,
   "id": "02404a90",
   "metadata": {},
   "outputs": [
    {
     "name": "stdout",
     "output_type": "stream",
     "text": [
      "[[0 2 3]\n",
      " [4 5 6]\n",
      " [7 8 9]]\n"
     ]
    }
   ],
   "source": [
    "d=e.squeeze()\n",
    "print(d)"
   ]
  },
  {
   "cell_type": "code",
   "execution_count": 50,
   "id": "1513dee8",
   "metadata": {},
   "outputs": [
    {
     "data": {
      "text/plain": [
       "(3, 3)"
      ]
     },
     "execution_count": 50,
     "metadata": {},
     "output_type": "execute_result"
    }
   ],
   "source": [
    "d.shape"
   ]
  },
  {
   "cell_type": "markdown",
   "id": "4a34e7fe",
   "metadata": {},
   "source": [
    "#### Slicing  NumPy arrays"
   ]
  },
  {
   "cell_type": "code",
   "execution_count": 51,
   "id": "394f9107",
   "metadata": {},
   "outputs": [
    {
     "data": {
      "text/plain": [
       "'Slicing means retrieving elements from one index to another index'"
      ]
     },
     "execution_count": 51,
     "metadata": {},
     "output_type": "execute_result"
    }
   ],
   "source": [
    "\"\"\"Slicing means retrieving elements from one index to another index\"\"\""
   ]
  },
  {
   "cell_type": "code",
   "execution_count": 52,
   "id": "85ce51a3",
   "metadata": {},
   "outputs": [],
   "source": [
    "a = np.array([1,2,3,4,5,6])"
   ]
  },
  {
   "cell_type": "code",
   "execution_count": 53,
   "id": "0b8a4156",
   "metadata": {},
   "outputs": [
    {
     "name": "stdout",
     "output_type": "stream",
     "text": [
      "[2 4]\n"
     ]
    }
   ],
   "source": [
    "print(a[1:5:2])"
   ]
  },
  {
   "cell_type": "code",
   "execution_count": 54,
   "id": "956a4637",
   "metadata": {},
   "outputs": [
    {
     "name": "stdout",
     "output_type": "stream",
     "text": [
      "[2 3 4 5]\n"
     ]
    }
   ],
   "source": [
    "print(a[1:5])"
   ]
  },
  {
   "cell_type": "code",
   "execution_count": 55,
   "id": "5a0362da",
   "metadata": {},
   "outputs": [
    {
     "name": "stdout",
     "output_type": "stream",
     "text": [
      "[1 2 3 4 5]\n"
     ]
    }
   ],
   "source": [
    "print(a[:5])"
   ]
  },
  {
   "cell_type": "code",
   "execution_count": 56,
   "id": "7c6c12ca",
   "metadata": {},
   "outputs": [
    {
     "name": "stdout",
     "output_type": "stream",
     "text": [
      "[1 2 3 4]\n"
     ]
    }
   ],
   "source": [
    "print(a[:-2])"
   ]
  },
  {
   "cell_type": "code",
   "execution_count": 57,
   "id": "2a091fd5",
   "metadata": {},
   "outputs": [
    {
     "name": "stdout",
     "output_type": "stream",
     "text": [
      "[1 2 3 4 5 6]\n"
     ]
    }
   ],
   "source": [
    "print(a[:])"
   ]
  },
  {
   "cell_type": "code",
   "execution_count": 58,
   "id": "f931b4fa",
   "metadata": {},
   "outputs": [
    {
     "name": "stdout",
     "output_type": "stream",
     "text": [
      "1\n",
      "6\n",
      "4\n"
     ]
    }
   ],
   "source": [
    "#Slicing 2-D NumPy arrays\n",
    "a = np.array([[1,2,3],[4,5,6]])\n",
    "print(a[0,0])\n",
    "print(a[1,2])\n",
    "print(a[1,0])"
   ]
  },
  {
   "cell_type": "code",
   "execution_count": 59,
   "id": "bf0e3955",
   "metadata": {},
   "outputs": [
    {
     "name": "stdout",
     "output_type": "stream",
     "text": [
      "[[1 2 3]]\n"
     ]
    }
   ],
   "source": [
    "print(a[0:1,:])"
   ]
  },
  {
   "cell_type": "code",
   "execution_count": 60,
   "id": "bbb46baf",
   "metadata": {},
   "outputs": [
    {
     "name": "stdout",
     "output_type": "stream",
     "text": [
      "[[4 5 6]]\n"
     ]
    }
   ],
   "source": [
    "print(a[1:,:])"
   ]
  },
  {
   "cell_type": "code",
   "execution_count": 61,
   "id": "6b51946f",
   "metadata": {},
   "outputs": [],
   "source": [
    "#Slicing 3-D NumPy arrays\n",
    "a = np.array([[[1,2],[3,4],[5,6]],# first axis array\n",
    "             [[7,8],[9,10],[11,12]],# second axis array\n",
    "             [[13,14],[15,16],[17,18]]])"
   ]
  },
  {
   "cell_type": "code",
   "execution_count": 62,
   "id": "d1117d83",
   "metadata": {},
   "outputs": [
    {
     "name": "stdout",
     "output_type": "stream",
     "text": [
      "[[[ 1  2]\n",
      "  [ 3  4]\n",
      "  [ 5  6]]\n",
      "\n",
      " [[ 7  8]\n",
      "  [ 9 10]\n",
      "  [11 12]]\n",
      "\n",
      " [[13 14]\n",
      "  [15 16]\n",
      "  [17 18]]]\n"
     ]
    }
   ],
   "source": [
    "print(a)"
   ]
  },
  {
   "cell_type": "code",
   "execution_count": 63,
   "id": "aaa18968",
   "metadata": {},
   "outputs": [
    {
     "name": "stdout",
     "output_type": "stream",
     "text": [
      "1\n"
     ]
    }
   ],
   "source": [
    "print(a[0,0,0])"
   ]
  },
  {
   "cell_type": "code",
   "execution_count": 64,
   "id": "d35fe2b4",
   "metadata": {},
   "outputs": [
    {
     "name": "stdout",
     "output_type": "stream",
     "text": [
      "[2 4 6]\n"
     ]
    }
   ],
   "source": [
    "print(a[0,:,1])"
   ]
  },
  {
   "cell_type": "code",
   "execution_count": 65,
   "id": "85469aa0",
   "metadata": {},
   "outputs": [
    {
     "name": "stdout",
     "output_type": "stream",
     "text": [
      "[15 16]\n"
     ]
    }
   ],
   "source": [
    "print(a[2,1,:])"
   ]
  },
  {
   "cell_type": "code",
   "execution_count": 66,
   "id": "13a403a3",
   "metadata": {},
   "outputs": [
    {
     "data": {
      "text/plain": [
       "array([[[ 7,  8],\n",
       "        [ 9, 10]],\n",
       "\n",
       "       [[13, 14],\n",
       "        [15, 16]]])"
      ]
     },
     "execution_count": 66,
     "metadata": {},
     "output_type": "execute_result"
    }
   ],
   "source": [
    "a[1:,0:2,0:2]"
   ]
  },
  {
   "cell_type": "code",
   "execution_count": 67,
   "id": "fa256f42",
   "metadata": {},
   "outputs": [
    {
     "data": {
      "text/plain": [
       "array([ 7,  8,  9, 10, 13, 14, 15, 16])"
      ]
     },
     "execution_count": 67,
     "metadata": {},
     "output_type": "execute_result"
    }
   ],
   "source": [
    "a[1:,0:2,0:2].flatten()"
   ]
  },
  {
   "cell_type": "markdown",
   "id": "fba2d4e4",
   "metadata": {},
   "source": [
    "#### reverse an ndarray"
   ]
  },
  {
   "cell_type": "code",
   "execution_count": 68,
   "id": "80e0d155",
   "metadata": {},
   "outputs": [
    {
     "data": {
      "text/plain": [
       "array([[[ 1,  2],\n",
       "        [ 3,  4],\n",
       "        [ 5,  6]],\n",
       "\n",
       "       [[ 7,  8],\n",
       "        [ 9, 10],\n",
       "        [11, 12]],\n",
       "\n",
       "       [[13, 14],\n",
       "        [15, 16],\n",
       "        [17, 18]]])"
      ]
     },
     "execution_count": 68,
     "metadata": {},
     "output_type": "execute_result"
    }
   ],
   "source": [
    "a\n"
   ]
  },
  {
   "cell_type": "code",
   "execution_count": 69,
   "id": "5763d9f0",
   "metadata": {},
   "outputs": [
    {
     "data": {
      "text/plain": [
       "array([[[13, 14],\n",
       "        [15, 16],\n",
       "        [17, 18]],\n",
       "\n",
       "       [[ 7,  8],\n",
       "        [ 9, 10],\n",
       "        [11, 12]],\n",
       "\n",
       "       [[ 1,  2],\n",
       "        [ 3,  4],\n",
       "        [ 5,  6]]])"
      ]
     },
     "execution_count": 69,
     "metadata": {},
     "output_type": "execute_result"
    }
   ],
   "source": [
    "np.flip(a,0)"
   ]
  },
  {
   "cell_type": "code",
   "execution_count": 70,
   "id": "857b6078",
   "metadata": {},
   "outputs": [
    {
     "data": {
      "text/plain": [
       "array([[ 1,  2,  3,  4,  5],\n",
       "       [ 6,  7,  8,  9, 10]])"
      ]
     },
     "execution_count": 70,
     "metadata": {},
     "output_type": "execute_result"
    }
   ],
   "source": [
    "b=np.array([[1,2,3,4,5],[6,7,8,9,10]])\n",
    "b"
   ]
  },
  {
   "cell_type": "code",
   "execution_count": 71,
   "id": "b5661822",
   "metadata": {},
   "outputs": [
    {
     "data": {
      "text/plain": [
       "array([[ 5,  4,  3,  2,  1],\n",
       "       [10,  9,  8,  7,  6]])"
      ]
     },
     "execution_count": 71,
     "metadata": {},
     "output_type": "execute_result"
    }
   ],
   "source": [
    "\"\"\"reversinga total columns\"\"\"\n",
    "np.flip(b,1)"
   ]
  },
  {
   "cell_type": "code",
   "execution_count": 72,
   "id": "61c48ac9",
   "metadata": {},
   "outputs": [
    {
     "data": {
      "text/plain": [
       "array([[ 6,  7,  8,  9, 10],\n",
       "       [ 1,  2,  3,  4,  5]])"
      ]
     },
     "execution_count": 72,
     "metadata": {},
     "output_type": "execute_result"
    }
   ],
   "source": [
    "\"\"\"reversinga total rows\"\"\"\n",
    "np.flip(b,0)"
   ]
  },
  {
   "cell_type": "markdown",
   "id": "bdcc859e",
   "metadata": {},
   "source": [
    "#### Stacking ndarrays"
   ]
  },
  {
   "cell_type": "code",
   "execution_count": 73,
   "id": "3b51bf87",
   "metadata": {},
   "outputs": [
    {
     "name": "stdout",
     "output_type": "stream",
     "text": [
      "a is: [0 1 2 3 4]\n",
      "b is : [5 6 7 8 9]\n"
     ]
    }
   ],
   "source": [
    "a=np.arange(0,5)\n",
    "b=np.arange(5,10)\n",
    "print(\"a is:\",a)\n",
    "print('b is :',b)"
   ]
  },
  {
   "cell_type": "code",
   "execution_count": 74,
   "id": "42c0aa6c",
   "metadata": {},
   "outputs": [
    {
     "name": "stdout",
     "output_type": "stream",
     "text": [
      "[[0 1 2 3 4]\n",
      " [5 6 7 8 9]]\n"
     ]
    }
   ],
   "source": [
    "vs=np.vstack((a,b))\n",
    "print(vs)"
   ]
  },
  {
   "cell_type": "code",
   "execution_count": 75,
   "id": "d72808fe",
   "metadata": {},
   "outputs": [
    {
     "data": {
      "text/plain": [
       "(2, 5)"
      ]
     },
     "execution_count": 75,
     "metadata": {},
     "output_type": "execute_result"
    }
   ],
   "source": [
    "vs.shape"
   ]
  },
  {
   "cell_type": "code",
   "execution_count": 76,
   "id": "d49a1d2f",
   "metadata": {},
   "outputs": [
    {
     "data": {
      "text/plain": [
       "2"
      ]
     },
     "execution_count": 76,
     "metadata": {},
     "output_type": "execute_result"
    }
   ],
   "source": [
    "vs.ndim"
   ]
  },
  {
   "cell_type": "code",
   "execution_count": 77,
   "id": "3fd0a6ec",
   "metadata": {},
   "outputs": [
    {
     "name": "stdout",
     "output_type": "stream",
     "text": [
      "[0 1 2 3 4 5 6 7 8 9]\n"
     ]
    }
   ],
   "source": [
    "ba=np.hstack((a,b))\n",
    "print(ba)"
   ]
  },
  {
   "cell_type": "code",
   "execution_count": 78,
   "id": "1ab359eb",
   "metadata": {},
   "outputs": [
    {
     "data": {
      "text/plain": [
       "array([[[0, 5],\n",
       "        [1, 6],\n",
       "        [2, 7],\n",
       "        [3, 8],\n",
       "        [4, 9]]])"
      ]
     },
     "execution_count": 78,
     "metadata": {},
     "output_type": "execute_result"
    }
   ],
   "source": [
    "d=np.dstack((a,b))\n",
    "d"
   ]
  },
  {
   "cell_type": "markdown",
   "id": "7db5e2cd",
   "metadata": {},
   "source": [
    "#### Concatenating ndarrays"
   ]
  },
  {
   "cell_type": "code",
   "execution_count": 79,
   "id": "41c11b5d",
   "metadata": {},
   "outputs": [
    {
     "name": "stdout",
     "output_type": "stream",
     "text": [
      "a is: [[0 1 2 3 4]]\n",
      "b is : [[5 6 7 8 9]]\n"
     ]
    }
   ],
   "source": [
    "a=np.arange(0,5).reshape(1,5)\n",
    "b=np.arange(5,10).reshape(1,5)\n",
    "print(\"a is:\",a)\n",
    "print('b is :',b)"
   ]
  },
  {
   "cell_type": "code",
   "execution_count": 80,
   "id": "6274316b",
   "metadata": {},
   "outputs": [
    {
     "name": "stdout",
     "output_type": "stream",
     "text": [
      "[[0 1 2 3 4]\n",
      " [5 6 7 8 9]]\n"
     ]
    }
   ],
   "source": [
    "c=np.concatenate((a,b),axis=0)\n",
    "print(c)"
   ]
  },
  {
   "cell_type": "code",
   "execution_count": 81,
   "id": "b5510645",
   "metadata": {},
   "outputs": [
    {
     "data": {
      "text/plain": [
       "(2, 5)"
      ]
     },
     "execution_count": 81,
     "metadata": {},
     "output_type": "execute_result"
    }
   ],
   "source": [
    "c.shape"
   ]
  },
  {
   "cell_type": "code",
   "execution_count": 82,
   "id": "f35d1fa2",
   "metadata": {},
   "outputs": [
    {
     "data": {
      "text/plain": [
       "2"
      ]
     },
     "execution_count": 82,
     "metadata": {},
     "output_type": "execute_result"
    }
   ],
   "source": [
    "c.ndim"
   ]
  },
  {
   "cell_type": "code",
   "execution_count": 83,
   "id": "1ad6781f",
   "metadata": {},
   "outputs": [
    {
     "data": {
      "text/plain": [
       "array([[0, 1, 2, 3, 4, 5, 6, 7, 8, 9]])"
      ]
     },
     "execution_count": 83,
     "metadata": {},
     "output_type": "execute_result"
    }
   ],
   "source": [
    "np.concatenate((a,b),axis=1)"
   ]
  },
  {
   "cell_type": "code",
   "execution_count": 84,
   "id": "28422f93",
   "metadata": {},
   "outputs": [
    {
     "data": {
      "text/plain": [
       "(1, 5)"
      ]
     },
     "execution_count": 84,
     "metadata": {},
     "output_type": "execute_result"
    }
   ],
   "source": [
    "a.shape"
   ]
  },
  {
   "cell_type": "markdown",
   "id": "d94e9374",
   "metadata": {},
   "source": [
    "#### Use of Broad casting"
   ]
  },
  {
   "cell_type": "code",
   "execution_count": 85,
   "id": "7854a448",
   "metadata": {},
   "outputs": [
    {
     "data": {
      "text/plain": [
       "'Broad casting:The term broadcasting refers to the ability of NumPy to treat arrays of different shapes\\n       during arithmetic operations'"
      ]
     },
     "execution_count": 85,
     "metadata": {},
     "output_type": "execute_result"
    }
   ],
   "source": [
    "\"\"\"Broad casting:The term broadcasting refers to the ability of NumPy to treat arrays of different shapes\n",
    "       during arithmetic operations\"\"\""
   ]
  },
  {
   "cell_type": "code",
   "execution_count": 106,
   "id": "26180b00",
   "metadata": {},
   "outputs": [
    {
     "name": "stdout",
     "output_type": "stream",
     "text": [
      "[10 12 14 16 18]\n",
      "[[2 3]\n",
      " [3 2]]\n",
      "(5,)\n",
      "(2, 2)\n"
     ]
    },
    {
     "ename": "ValueError",
     "evalue": "operands could not be broadcast together with shapes (5,) (2,2) ",
     "output_type": "error",
     "traceback": [
      "\u001b[1;31m---------------------------------------------------------------------------\u001b[0m",
      "\u001b[1;31mValueError\u001b[0m                                Traceback (most recent call last)",
      "Input \u001b[1;32mIn [106]\u001b[0m, in \u001b[0;36m<cell line: 7>\u001b[1;34m()\u001b[0m\n\u001b[0;32m      5\u001b[0m \u001b[38;5;28mprint\u001b[39m(np\u001b[38;5;241m.\u001b[39mshape(a))\n\u001b[0;32m      6\u001b[0m \u001b[38;5;28mprint\u001b[39m(np\u001b[38;5;241m.\u001b[39mshape(b))\n\u001b[1;32m----> 7\u001b[0m c\u001b[38;5;241m=\u001b[39m\u001b[43ma\u001b[49m\u001b[38;5;241;43m+\u001b[39;49m\u001b[43mb\u001b[49m\n\u001b[0;32m      8\u001b[0m d\u001b[38;5;241m=\u001b[39ma\u001b[38;5;241m*\u001b[39m\u001b[38;5;241m2\u001b[39m\n\u001b[0;32m      9\u001b[0m \u001b[38;5;28mprint\u001b[39m(\u001b[38;5;124m'\u001b[39m\u001b[38;5;124mAdding two different size arrays :\u001b[39m\u001b[38;5;124m'\u001b[39m,\u001b[38;5;124m'\u001b[39m\u001b[38;5;130;01m\\n\u001b[39;00m\u001b[38;5;124m'\u001b[39m,c)\n",
      "\u001b[1;31mValueError\u001b[0m: operands could not be broadcast together with shapes (5,) (2,2) "
     ]
    }
   ],
   "source": [
    "a = np.arange(10,20,2)\n",
    "b = np.array([[2,3],[3,2]])\n",
    "print(a)\n",
    "print(b)\n",
    "print(np.shape(a))\n",
    "print(np.shape(b))\n",
    "c=a+b\n",
    "d=a*2\n",
    "print('Adding two different size arrays :','\\n',c)\n",
    "print('Multiplying an ndarray and a number :',d)\n",
    "print(np.shape(c))\n",
    "print(np.shape(d))\n"
   ]
  },
  {
   "cell_type": "code",
   "execution_count": 112,
   "id": "60d01f6c",
   "metadata": {},
   "outputs": [
    {
     "data": {
      "text/plain": [
       "'1.Both have the same dimensions\\n   2.Either of the ndarrays has a dimension of 1. \\n     The one having a dimension of 1 is broadcast to meet the size requirements of the larger ndarray'"
      ]
     },
     "execution_count": 112,
     "metadata": {},
     "output_type": "execute_result"
    }
   ],
   "source": [
    "'''1.Both have the same dimensions\n",
    "   2.Either of the ndarrays has a dimension of 1. \n",
    "     The one having a dimension of 1 is broadcast to meet the size requirements of the larger ndarray'''"
   ]
  },
  {
   "cell_type": "code",
   "execution_count": 105,
   "id": "e0fda379",
   "metadata": {},
   "outputs": [],
   "source": [
    "e=np.reshape(b,(4,1))"
   ]
  },
  {
   "cell_type": "code",
   "execution_count": 111,
   "id": "c1f8fa7e",
   "metadata": {},
   "outputs": [
    {
     "name": "stdout",
     "output_type": "stream",
     "text": [
      "[10 12 14 16 18]\n",
      "[[2 3]\n",
      " [3 2]]\n",
      "shape of a is: (5,)\n",
      "shape of b is: (2, 2)\n",
      "Adding two different size arrays : \n",
      " [[12 14 16 18 20]\n",
      " [13 15 17 19 21]\n",
      " [13 15 17 19 21]\n",
      " [12 14 16 18 20]]\n",
      "Multiplying an ndarray and a number : [20 24 28 32 36]\n",
      "shape of a is: (5,)\n",
      "shape of b is: (4, 1)\n",
      "shape of c is: (4, 5)\n",
      "shape of d is: (5,)\n"
     ]
    }
   ],
   "source": [
    "a = np.arange(10,20,2)\n",
    "b = np.array([[2,3],[3,2]])\n",
    "print(a)\n",
    "print(b)\n",
    "print('shape of a is:',np.shape(a))\n",
    "print('shape of b is:',np.shape(b))\n",
    "b=np.reshape(b,(4,1))\n",
    "c=a+b\n",
    "d=a*2\n",
    "print('Adding two different size arrays :','\\n',c)\n",
    "print('Multiplying an ndarray and a number :',d)\n",
    "print('shape of a is:',np.shape(a))\n",
    "print('shape of b is:',np.shape(b))\n",
    "print('shape of c is:',np.shape(c))\n",
    "print('shape of d is:',np.shape(d))\n"
   ]
  },
  {
   "cell_type": "markdown",
   "id": "3a02c98b",
   "metadata": {},
   "source": [
    "#### NumPy Ufuncs(Universal Functions)\n",
    "This problem manifests itself when Python has to do many operations repeatedly, like the addition of two arrays. This is so because each time an operation needs to be performed, Python has to check the data type of the element. This problem is overcome by NumPy using the ufuncs function.\n",
    "\n",
    "The way NumPy makes this work faster is by using vectorization. Vectorization performs the same operation on ndarray in an element-by-element fashion in a compiled code. So the data types of the elements do not need to be determined every time, thereby performing faster operations.\n"
   ]
  },
  {
   "cell_type": "code",
   "execution_count": 119,
   "id": "774c9699",
   "metadata": {},
   "outputs": [
    {
     "name": "stdout",
     "output_type": "stream",
     "text": [
      "542 ns ± 8.98 ns per loop (mean ± std. dev. of 7 runs, 1,000,000 loops each)\n"
     ]
    }
   ],
   "source": [
    "a = np.array([1,2,3,4,5])\n",
    "b = np.array([6,7,8,9,10])\n",
    "%timeit a+b"
   ]
  },
  {
   "cell_type": "markdown",
   "id": "8853bf62",
   "metadata": {},
   "source": [
    "### Maths with NumPy arrays\n"
   ]
  },
  {
   "cell_type": "markdown",
   "id": "54ff0a12",
   "metadata": {},
   "source": [
    "#### 1.Basic arithmetic operations on NumPy arrays"
   ]
  },
  {
   "cell_type": "code",
   "execution_count": 121,
   "id": "4044ca45",
   "metadata": {},
   "outputs": [
    {
     "name": "stdout",
     "output_type": "stream",
     "text": [
      "addition is: [ 7  9 11 13 15]\n",
      "subtraction is: [-5 -5 -5 -5 -5]\n",
      "multiplication is: [ 6 14 24 36 50]\n",
      "devision is: [0.5 1.  1.5 2.  2.5]\n"
     ]
    }
   ],
   "source": [
    "print('addition is:',a+b)\n",
    "print('subtraction is:',a-b)\n",
    "print('multiplication is:',a*b)\n",
    "print('devision is:',a/2)"
   ]
  },
  {
   "cell_type": "markdown",
   "id": "122ccb81",
   "metadata": {},
   "source": [
    "#### 2.Mean, Median and Standard deviation"
   ]
  },
  {
   "cell_type": "code",
   "execution_count": 122,
   "id": "1ba5dedd",
   "metadata": {},
   "outputs": [
    {
     "name": "stdout",
     "output_type": "stream",
     "text": [
      "Mean is: 3.0\n",
      "Median is: 3.0\n",
      "sd is : 1.4142135623730951\n"
     ]
    }
   ],
   "source": [
    "print('Mean is:',np.mean(a))\n",
    "print('Median is:',np.median(a))\n",
    "print(\"sd is :\",np.std(a))"
   ]
  },
  {
   "cell_type": "markdown",
   "id": "67bfb14e",
   "metadata": {},
   "source": [
    "#### 3.Min-Max values and their indexes"
   ]
  },
  {
   "cell_type": "code",
   "execution_count": 123,
   "id": "1d5309c5",
   "metadata": {},
   "outputs": [],
   "source": [
    "a = np.array([[1,6],\n",
    "[4,3]])"
   ]
  },
  {
   "cell_type": "code",
   "execution_count": 127,
   "id": "825ec25a",
   "metadata": {},
   "outputs": [
    {
     "data": {
      "text/plain": [
       "array([[1, 6],\n",
       "       [4, 3]])"
      ]
     },
     "execution_count": 127,
     "metadata": {},
     "output_type": "execute_result"
    }
   ],
   "source": [
    "a"
   ]
  },
  {
   "cell_type": "code",
   "execution_count": 125,
   "id": "22134b3e",
   "metadata": {},
   "outputs": [
    {
     "name": "stdout",
     "output_type": "stream",
     "text": [
      "min is: 1\n",
      "min is: [1 3]\n",
      "min is: [1 3]\n"
     ]
    }
   ],
   "source": [
    "print('min is:',np.min(a))#min value total array\n",
    "print('min is:',np.min(a,axis=0))#min value along row-wise\n",
    "print('min is:',np.min(a,axis=1))#min value along column-wise"
   ]
  },
  {
   "cell_type": "code",
   "execution_count": 126,
   "id": "fbe5fe99",
   "metadata": {},
   "outputs": [
    {
     "name": "stdout",
     "output_type": "stream",
     "text": [
      "min is: 6\n",
      "min is: [4 6]\n",
      "min is: [6 4]\n"
     ]
    }
   ],
   "source": [
    "print('max is:',np.max(a))\n",
    "print('max is:',np.max(a,axis=0))\n",
    "print('max is:',np.max(a,axis=1))"
   ]
  },
  {
   "cell_type": "markdown",
   "id": "366bf62e",
   "metadata": {},
   "source": [
    "#### 4.Sorting in NumPy arrays"
   ]
  },
  {
   "cell_type": "code",
   "execution_count": 128,
   "id": "b57114cc",
   "metadata": {},
   "outputs": [],
   "source": [
    "a = np.array([1,4,2,5,3,6,8,7,9])"
   ]
  },
  {
   "cell_type": "code",
   "execution_count": 130,
   "id": "c2baedaa",
   "metadata": {},
   "outputs": [
    {
     "name": "stdout",
     "output_type": "stream",
     "text": [
      "2.54 µs ± 170 ns per loop (mean ± std. dev. of 7 runs, 100,000 loops each)\n"
     ]
    }
   ],
   "source": [
    "%timeit np.sort(a, kind='quicksort')"
   ]
  },
  {
   "cell_type": "code",
   "execution_count": 131,
   "id": "e66c9065",
   "metadata": {},
   "outputs": [
    {
     "name": "stdout",
     "output_type": "stream",
     "text": [
      "2.57 µs ± 101 ns per loop (mean ± std. dev. of 7 runs, 100,000 loops each)\n"
     ]
    }
   ],
   "source": [
    "%timeit np.sort(a, kind='mergesort')"
   ]
  },
  {
   "cell_type": "code",
   "execution_count": 132,
   "id": "c2983c06",
   "metadata": {},
   "outputs": [
    {
     "name": "stdout",
     "output_type": "stream",
     "text": [
      "2.53 µs ± 131 ns per loop (mean ± std. dev. of 7 runs, 100,000 loops each)\n"
     ]
    }
   ],
   "source": [
    "%timeit np.sort(a, kind='heapsort')"
   ]
  },
  {
   "cell_type": "code",
   "execution_count": 133,
   "id": "e4fc2daa",
   "metadata": {},
   "outputs": [
    {
     "name": "stdout",
     "output_type": "stream",
     "text": [
      "2.47 µs ± 183 ns per loop (mean ± std. dev. of 7 runs, 100,000 loops each)\n"
     ]
    }
   ],
   "source": [
    "%timeit np.sort(a, kind='stable')"
   ]
  },
  {
   "cell_type": "markdown",
   "id": "d3520ced",
   "metadata": {},
   "source": [
    "### NumPy arrays and Images"
   ]
  },
  {
   "cell_type": "code",
   "execution_count": 139,
   "id": "5001eacd",
   "metadata": {},
   "outputs": [
    {
     "name": "stdout",
     "output_type": "stream",
     "text": [
      "Requirement already satisfied: Pillow in c:\\users\\loki\\anaconda3\\lib\\site-packages (9.0.1)\n"
     ]
    }
   ],
   "source": [
    "import numpy as np\n",
    "!pip install Pillow"
   ]
  },
  {
   "cell_type": "code",
   "execution_count": 140,
   "id": "607ba414",
   "metadata": {},
   "outputs": [],
   "source": [
    "from PIL import Image\n",
    "image = Image.open('johny depp.jfif')"
   ]
  },
  {
   "cell_type": "code",
   "execution_count": 141,
   "id": "4b274e46",
   "metadata": {},
   "outputs": [
    {
     "name": "stdout",
     "output_type": "stream",
     "text": [
      "JPEG\n",
      "(130, 130)\n",
      "RGB\n"
     ]
    }
   ],
   "source": [
    "print(image.format)\n",
    "print(image.size)\n",
    "print(image.mode)"
   ]
  },
  {
   "cell_type": "code",
   "execution_count": 143,
   "id": "7f631f5e",
   "metadata": {},
   "outputs": [],
   "source": [
    "from numpy import asarray"
   ]
  },
  {
   "cell_type": "code",
   "execution_count": 146,
   "id": "945c2c47",
   "metadata": {},
   "outputs": [],
   "source": [
    "numpydata = asarray(image)"
   ]
  },
  {
   "cell_type": "code",
   "execution_count": 147,
   "id": "ce54d881",
   "metadata": {},
   "outputs": [
    {
     "name": "stdout",
     "output_type": "stream",
     "text": [
      "[[[ 34  27  21]\n",
      "  [ 23  16  10]\n",
      "  [ 16   9   3]\n",
      "  ...\n",
      "  [ 14   5  10]\n",
      "  [ 11   2   3]\n",
      "  [ 11   2   3]]\n",
      "\n",
      " [[ 34  27  21]\n",
      "  [ 24  17  11]\n",
      "  [ 17  10   4]\n",
      "  ...\n",
      "  [ 14   5  10]\n",
      "  [ 12   3   4]\n",
      "  [ 12   3   4]]\n",
      "\n",
      " [[ 35  28  22]\n",
      "  [ 24  17  11]\n",
      "  [ 18  11   5]\n",
      "  ...\n",
      "  [ 15   6   9]\n",
      "  [ 14   5   6]\n",
      "  [ 14   5   6]]\n",
      "\n",
      " ...\n",
      "\n",
      " [[ 29  24  20]\n",
      "  [ 26  22  19]\n",
      "  [ 30  26  23]\n",
      "  ...\n",
      "  [  6   6   8]\n",
      "  [ 11   7  30]\n",
      "  [ 81  77 100]]\n",
      "\n",
      " [[ 30  25  21]\n",
      "  [ 31  26  22]\n",
      "  [ 31  26  22]\n",
      "  ...\n",
      "  [  1   0   8]\n",
      "  [ 38  35  64]\n",
      "  [ 81  78 107]]\n",
      "\n",
      " [[ 30  25  21]\n",
      "  [ 31  26  22]\n",
      "  [ 31  26  22]\n",
      "  ...\n",
      "  [  1   0   8]\n",
      "  [ 43  40  69]\n",
      "  [ 85  82 111]]]\n"
     ]
    }
   ],
   "source": [
    "print(numpydata)"
   ]
  },
  {
   "cell_type": "markdown",
   "id": "c1ffc2a0",
   "metadata": {},
   "source": [
    "# -----------------------------------------------------END----------------------------------------------------"
   ]
  }
 ],
 "metadata": {
  "kernelspec": {
   "display_name": "Python 3 (ipykernel)",
   "language": "python",
   "name": "python3"
  },
  "language_info": {
   "codemirror_mode": {
    "name": "ipython",
    "version": 3
   },
   "file_extension": ".py",
   "mimetype": "text/x-python",
   "name": "python",
   "nbconvert_exporter": "python",
   "pygments_lexer": "ipython3",
   "version": "3.9.12"
  }
 },
 "nbformat": 4,
 "nbformat_minor": 5
}
